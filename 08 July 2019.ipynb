{
 "cells": [
  {
   "cell_type": "markdown",
   "metadata": {},
   "source": [
    "- Function to print all numbers divisible by 6 and not a factor of 100 in a given range(lb, ub) inclusive\n",
    "- Function to find the average of cubes of all even numbers in a given range(lb, ub) inclusive\n",
    "- Function to generate the list of factors for a given number\n",
    "- Function to calculate the factorial of a given number\n",
    "- Function to check if a given number is Prime\n",
    "- Function to calculate the average first N Prime numbers\n",
    "- Function to generate all Perfect numbers in a given range\n",
    "- Advanced Problem Set( Optional )\n",
    "- Function to calculate the average of all factorials in a given range\n",
    "- Function to generate N odd Armstrong numbers\n",
    "- Function to generate Multiplication table for a number in a given range\n",
    "    10 in the range(100, 102) inclusive\n",
    "    10 x 100 = 1000\n",
    "    10 x 101 = 1010\n",
    "    10 x 102 = 1020\n",
    "    \n",
    "### Problems That needs a Try\n",
    "\n",
    "- You are given a string and your task is to swap cases. In other words, convert all lowercase letters to uppercase letters and   vice versa. (The String may contain special characters).\n",
    "- Given an integer, ’n’ , perform the following conditional actions:\n",
    "    - If ‘n’  is odd, print Weird\n",
    "    - If  ‘n’ is even and in the inclusive range of 2 to 5, print Not Weird\n",
    "    - If  ‘n’ is even and in the inclusive range of 6 to 20 , print Weird\n",
    "    - If  ‘n’ is even and greater than 20, print Not Weird\n"
   ]
  },
  {
   "cell_type": "code",
   "execution_count": 8,
   "metadata": {},
   "outputs": [
    {
     "name": "stdout",
     "output_type": "stream",
     "text": [
      "1\n",
      "100\n",
      "6 12 18 24 30 36 42 48 54 60 66 72 78 84 90 96 "
     ]
    }
   ],
   "source": [
    "# Function to print all numbers divisible by 6 and not a factor of 100 in a given range(lb, ub) inclusive\n",
    "\n",
    "def generateNumDivBy6andNotAFactorOf100(lb,ub):\n",
    "    #print(n) if n%6==0 and 100%n!=0 else print(\"-1\")\n",
    "    for lb in range(lb,ub+1):\n",
    "        isPossible(lb)\n",
    "def isPossible(n):\n",
    "    if n%6==0 and 100%n!=0:\n",
    "        print(n,end=\" \")\n",
    "lb = int(input())\n",
    "ub = int(input())\n",
    "generateNumDivBy6andNotAFactorOf100(lb,ub)"
   ]
  },
  {
   "cell_type": "code",
   "execution_count": 19,
   "metadata": {},
   "outputs": [
    {
     "name": "stdout",
     "output_type": "stream",
     "text": [
      "2\n",
      "4\n",
      "Average is : 36\n"
     ]
    }
   ],
   "source": [
    "# Function to find the average of cubes of all even numbers in a given range(lb, ub) inclusive\n",
    "\n",
    "def isEven(n):\n",
    "    return True if n%2==0 else False\n",
    "    \n",
    "\n",
    "def findAvgOfCubes(lb,ub):\n",
    "    s = 0\n",
    "    count = 0\n",
    "    for lb in range(lb,ub+1):\n",
    "        if isEven(lb):\n",
    "            s += lb**3\n",
    "            count+=1\n",
    "    avg = s//count\n",
    "    print(\"Average is :\",avg)\n",
    "lb = int(input())\n",
    "ub = int(input())\n",
    "findAvgOfCubes(lb,ub)"
   ]
  },
  {
   "cell_type": "code",
   "execution_count": 26,
   "metadata": {},
   "outputs": [
    {
     "name": "stdout",
     "output_type": "stream",
     "text": [
      "34\n",
      "[1, 2, 17, 34]\n"
     ]
    }
   ],
   "source": [
    "# Function to generate the list of factors for a given number\n",
    "def generateFactors(n):\n",
    "    li = [i for i in range(1,n+1) if n%i==0]\n",
    "    print(li)\n",
    "n = int(input())\n",
    "generateFactors(n)"
   ]
  },
  {
   "cell_type": "code",
   "execution_count": 42,
   "metadata": {},
   "outputs": [
    {
     "name": "stdout",
     "output_type": "stream",
     "text": [
      "3\n"
     ]
    },
    {
     "data": {
      "text/plain": [
       "6"
      ]
     },
     "execution_count": 42,
     "metadata": {},
     "output_type": "execute_result"
    }
   ],
   "source": [
    "# Function to calculate the factorial of a given number\n",
    "def factorial(n):\n",
    "    s = 1\n",
    "    for i in range(1,n+1):\n",
    "        s*=i\n",
    "    return s\n",
    "n = int(input())\n",
    "factorial(n)"
   ]
  },
  {
   "cell_type": "code",
   "execution_count": 73,
   "metadata": {},
   "outputs": [
    {
     "name": "stdout",
     "output_type": "stream",
     "text": [
      "2\n"
     ]
    },
    {
     "data": {
      "text/plain": [
       "True"
      ]
     },
     "execution_count": 73,
     "metadata": {},
     "output_type": "execute_result"
    }
   ],
   "source": [
    "# Function to check if a given number is Prime\n",
    "\n",
    "def isPrime(n):\n",
    "    for i in range(2,(n//2)+1):\n",
    "        if(n%i==0):\n",
    "            return False\n",
    "    return True\n",
    "n = int(input())\n",
    "isPrime(n)"
   ]
  },
  {
   "cell_type": "code",
   "execution_count": 79,
   "metadata": {},
   "outputs": [
    {
     "name": "stdout",
     "output_type": "stream",
     "text": [
      "5\n"
     ]
    },
    {
     "data": {
      "text/plain": [
       "5.6"
      ]
     },
     "execution_count": 79,
     "metadata": {},
     "output_type": "execute_result"
    }
   ],
   "source": [
    "# Function to calculate the average first N Prime numbers\n",
    "def avgFirstNPrimes(n):\n",
    "    i = 1\n",
    "    count = 0\n",
    "    s = 0\n",
    "    while(n>0):\n",
    "        i+=1\n",
    "        if(isPrime(i)):\n",
    "            s+=i\n",
    "            #print(i,end=\" \")\n",
    "            count+=1\n",
    "            n=n-1  \n",
    "    avg = s/count\n",
    "    return avg\n",
    "n = int(input())\n",
    "avgFirstNPrimes(n)"
   ]
  },
  {
   "cell_type": "code",
   "execution_count": null,
   "metadata": {},
   "outputs": [],
   "source": []
  },
  {
   "cell_type": "code",
   "execution_count": 41,
   "metadata": {},
   "outputs": [
    {
     "name": "stdout",
     "output_type": "stream",
     "text": [
      "1\n",
      "100\n",
      "6\n",
      "28\n"
     ]
    }
   ],
   "source": [
    "# Function to generate all Perfect numbers in a given range\n",
    "def isPerfect(n):\n",
    "    s = 0\n",
    "    for i in range(1,(n//2)+1):\n",
    "        if(n%i==0):\n",
    "            s+=i\n",
    "    return True if s==n else False\n",
    "def generatePerfects(lb,ub):\n",
    "    for lb in range(lb,ub+1):\n",
    "        if isPerfect(lb):\n",
    "            print(lb)\n",
    "lb =int(input())\n",
    "ub =int(input())\n",
    "generatePerfects(lb,ub)"
   ]
  },
  {
   "cell_type": "code",
   "execution_count": 45,
   "metadata": {},
   "outputs": [
    {
     "name": "stdout",
     "output_type": "stream",
     "text": [
      "1\n",
      "3\n"
     ]
    },
    {
     "data": {
      "text/plain": [
       "3"
      ]
     },
     "execution_count": 45,
     "metadata": {},
     "output_type": "execute_result"
    }
   ],
   "source": [
    "# Function to calculate the average of all factorials in a given range\n",
    "\n",
    "def avgFactorials(lb,ub):\n",
    "    s = 0\n",
    "    count = 0\n",
    "    for lb in range(lb,ub+1):\n",
    "        s+=factorial(lb)\n",
    "        count+=1\n",
    "    return s//(count)\n",
    "lb = int(input())\n",
    "ub = int(input())\n",
    "avgFactorials(lb,ub)"
   ]
  },
  {
   "cell_type": "code",
   "execution_count": 46,
   "metadata": {},
   "outputs": [],
   "source": [
    "#Function to generate N odd Armstrong numbers\n",
    "def isAmstrong(n):\n",
    "    l = len(n)\n",
    "    s = 0\n",
    "    for i in range(len(n))"
   ]
  },
  {
   "cell_type": "code",
   "execution_count": 85,
   "metadata": {},
   "outputs": [
    {
     "name": "stdout",
     "output_type": "stream",
     "text": [
      "10 * 100 = 1000\n",
      "10 * 101 = 1010\n",
      "10 * 102 = 1020\n"
     ]
    }
   ],
   "source": [
    "# Function to generate Multiplication table for a number in a given range 10 in the range(100, 102)\n",
    "# inclusive 10 x 100 = 1000 10 x 101 = 1010 10 x 102 = 1020\n",
    "def generateTable(lb,ub):\n",
    "    for lb in range(lb,ub+1):\n",
    "        print(\"10\",\"*\",lb,\"=\",lb*10)\n",
    "generateTable(100,102)\n",
    "    "
   ]
  },
  {
   "cell_type": "code",
   "execution_count": 84,
   "metadata": {},
   "outputs": [
    {
     "data": {
      "text/plain": [
       "'AbCd'"
      ]
     },
     "execution_count": 84,
     "metadata": {},
     "output_type": "execute_result"
    }
   ],
   "source": [
    "# You are given a string and your task is to swap cases. In other words, \n",
    "# convert all lowercase letters to uppercase letters and vice versa. (The String may contain special characters).\n",
    "def swap(s):\n",
    "    return s.swapcase()\n",
    "swap(\"aBcD\")"
   ]
  },
  {
   "cell_type": "code",
   "execution_count": 81,
   "metadata": {},
   "outputs": [
    {
     "name": "stdout",
     "output_type": "stream",
     "text": [
      "2\n",
      "Not Weird\n"
     ]
    }
   ],
   "source": [
    "# Given an integer, ’n’ , perform the following conditional actions:\n",
    "# If ‘n’ is odd, print Weird\n",
    "# If ‘n’ is even and in the inclusive range of 2 to 5, print Not Weird\n",
    "# If ‘n’ is even and in the inclusive range of 6 to 20 , print Weird\n",
    "# If ‘n’ is even and greater than 20, print Not Weird\n",
    "\n",
    "import math\n",
    "import os\n",
    "import random\n",
    "import re\n",
    "import sys\n",
    "if __name__ == '__main__':\n",
    "    n = int(input().strip())\n",
    "    check = {True: \"Not Weird\", False: \"Weird\"}\n",
    "    print(check[\n",
    "        n%2==0 and (\n",
    "            n in range(2,6) or \n",
    "            n > 20)\n",
    "    ])\n"
   ]
  },
  {
   "cell_type": "code",
   "execution_count": 93,
   "metadata": {},
   "outputs": [
    {
     "name": "stdout",
     "output_type": "stream",
     "text": [
      "3\n"
     ]
    }
   ],
   "source": [
    "# Given the participants ‘n’ score sheet for your University Sports Day,\n",
    "# you are required to find the runner-up score. You are given scores. \n",
    "# Store them in a list and find the score of the runner-up. (there can be multiple winners - if their scores match). \n",
    "from collections import Counter\n",
    "def findRunner(li):\n",
    "    li = sorted(li,reverse=True)\n",
    "    maxVal = max(li)\n",
    "    l = 0\n",
    "    try:\n",
    "        for i in range(len(li)+1):\n",
    "            if maxVal==li[i]:\n",
    "                l = li[i+1]\n",
    "    except:\n",
    "        \"sdfds\"\n",
    "    print(l)\n",
    "findRunner([1,2,3,4,3])"
   ]
  },
  {
   "cell_type": "code",
   "execution_count": null,
   "metadata": {},
   "outputs": [],
   "source": []
  },
  {
   "cell_type": "code",
   "execution_count": null,
   "metadata": {},
   "outputs": [],
   "source": []
  }
 ],
 "metadata": {
  "kernelspec": {
   "display_name": "Python 3",
   "language": "python",
   "name": "python3"
  },
  "language_info": {
   "codemirror_mode": {
    "name": "ipython",
    "version": 3
   },
   "file_extension": ".py",
   "mimetype": "text/x-python",
   "name": "python",
   "nbconvert_exporter": "python",
   "pygments_lexer": "ipython3",
   "version": "3.7.3"
  }
 },
 "nbformat": 4,
 "nbformat_minor": 2
}
